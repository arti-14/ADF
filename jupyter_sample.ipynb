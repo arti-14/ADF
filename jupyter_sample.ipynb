{
 "cells": [
  {
   "cell_type": "markdown",
   "id": "1ca2a6f5-bd5a-4520-8380-baf5cb536d41",
   "metadata": {},
   "source": [
    "## ADF Diagnostics In Jupyter\n",
    "This notebook will run the Atmospheric Diagnostic Framework using the settings in a config.yaml file in your ADF directory. \n",
    "\n",
    "Note that it was developed to run on Cheyenne/Caspar JupyterHub *with the NPL (conda) kernel*"
   ]
  },
  {
   "cell_type": "markdown",
   "id": "7eea8d1a-d6a7-4464-bd6d-8194aa2368d0",
   "metadata": {
    "tags": []
   },
   "source": [
    "### Setup\n",
    "#### Required packages"
   ]
  },
  {
   "cell_type": "code",
   "execution_count": 1,
   "id": "2cc09d60-42d0-43ac-ab75-92b2f9a3df9e",
   "metadata": {},
   "outputs": [],
   "source": [
    "import os.path\n",
    "import sys"
   ]
  },
  {
   "cell_type": "markdown",
   "id": "6566766f-9d8f-4428-bf01-3c36a1ffeb63",
   "metadata": {
    "tags": []
   },
   "source": [
    "#### Paths"
   ]
  },
  {
   "cell_type": "code",
   "execution_count": 2,
   "id": "b1fb67e7-2b56-4136-a703-a18378b66c9f",
   "metadata": {},
   "outputs": [
    {
     "name": "stdout",
     "output_type": "stream",
     "text": [
      "current working directory = /proj/aerosol_esm_lund/users/x_artja/ADF\n",
      "ADF path                  = /proj/aerosol_esm_lund/users/x_artja/ADF\n",
      "ADF source code           = /proj/aerosol_esm_lund/users/x_artja/ADF/lib\n",
      "ADF plotting scripts      = /proj/aerosol_esm_lund/users/x_artja/ADF/scripts/plotting\n"
     ]
    }
   ],
   "source": [
    "# ADF Code path\n",
    "# If it is in your cwd, set adf_code = local_path (initialized below)\n",
    "# otherwise set adf_code appropriately\n",
    "\n",
    "local_path = os.path.abspath('')\n",
    "adf_code = local_path\n",
    "#adf_code = \"/glade/u/home/bundy/diag/ADF_top/ADF\"\n",
    "\n",
    "#set path to ADF lib (main code)\n",
    "lib_path = os.path.join(adf_code,\"lib\")\n",
    "\n",
    "#set path to ADF plotting scripts \n",
    "plotting_scripts_path = os.path.join(adf_code,\"scripts\",\"plotting\")\n",
    "\n",
    "#Add paths to python path:\n",
    "sys.path.append(lib_path)\n",
    "sys.path.append(plotting_scripts_path)\n",
    "\n",
    "print(f\"current working directory = {local_path}\")\n",
    "print(f\"ADF path                  = {adf_code}\")\n",
    "print(f\"ADF source code           = {lib_path}\")\n",
    "print(f\"ADF plotting scripts      = {plotting_scripts_path}\")\n"
   ]
  },
  {
   "cell_type": "markdown",
   "id": "159be7f2-8593-483a-b200-daf8c3c992c8",
   "metadata": {
    "tags": []
   },
   "source": [
    "#### Paths to data that is input or produced by the ADF are set in the config.yaml file. \n",
    "To modify from the defaults, _edit that file_.\n",
    "\n",
    "If there are errors here, it is likely due to path errors above\n",
    "\n"
   ]
  },
  {
   "cell_type": "code",
   "execution_count": 3,
   "id": "cd4918d2-dcc0-417b-8867-d368c4cb1d78",
   "metadata": {},
   "outputs": [
    {
     "name": "stdout",
     "output_type": "stream",
     "text": [
      "Will read settings from  /proj/aerosol_esm_lund/users/x_artja/ADF/config_cam_baseline_example.yaml\n"
     ]
    }
   ],
   "source": [
    "#set path to config YAML file:\n",
    "config_file=os.path.join(adf_code,\"config_cam_baseline_example.yaml\")\n",
    "\n",
    "print(f\"Will read settings from \",config_file)"
   ]
  },
  {
   "cell_type": "code",
   "execution_count": 4,
   "id": "f553607f-cd31-4aa3-8142-4959b3569a1a",
   "metadata": {},
   "outputs": [],
   "source": [
    "#import ADF diagnostics object\n",
    "from adf_diag import AdfDiag\n",
    "\n",
    "# If this fails, check your paths output in the cells above,\n",
    "# and that you are running the NPL (conda) Kernel\n",
    "# You can see all the paths being examined by un-commenting the following:\n",
    "#sys.path"
   ]
  },
  {
   "cell_type": "code",
   "execution_count": 7,
   "id": "7a48912d",
   "metadata": {},
   "outputs": [
    {
     "name": "stdout",
     "output_type": "stream",
     "text": [
      "*cam.h0.*.nc\n",
      "c\n",
      "[2010, 2011]\n",
      "2010\n",
      "2011\n"
     ]
    }
   ],
   "source": [
    "from pathlib import Path\n",
    "import numpy as np \n",
    "baseline_hist_str = 'cam.h0'\n",
    "baseline_hist_locs= '/proj/aerosol_esm_lund/users/x_artja/cesm_archive/nudged_dms_w_soa/atm/hist/'\n",
    "#Grab first possible hist string, just looking for years of run\n",
    "base_hist_str = baseline_hist_str[0]\n",
    "starting_location = Path(baseline_hist_locs).expanduser()\n",
    "file_list = sorted(starting_location.glob(\"*\" + baseline_hist_str + \".*.nc\"))\n",
    "print(\"*\" + baseline_hist_str + \".*.nc\")\n",
    "#print(file_list)\n",
    "\n",
    "print(base_hist_str)\n",
    "#for i in file_list:\n",
    "    #print(int(str(i).partition(f\"{baseline_hist_str}.\")[2][0:4]))\n",
    "base_climo_yrs = [int(str(i).partition(f\"{baseline_hist_str}.\")[2][0:4]) for i in file_list]\n",
    "base_climo_yrs = sorted(np.unique(base_climo_yrs))\n",
    "base_found_syr = int(base_climo_yrs[0])\n",
    "base_found_eyr = int(base_climo_yrs[-1])\n",
    "print(base_climo_yrs)\n",
    "print(base_found_syr)\n",
    "print(base_found_eyr)"
   ]
  },
  {
   "cell_type": "code",
   "execution_count": 8,
   "id": "fc194087-e523-4161-9af4-0c45983d268e",
   "metadata": {},
   "outputs": [
    {
     "ename": "IndexError",
     "evalue": "list index out of range",
     "output_type": "error",
     "traceback": [
      "\u001b[0;31m---------------------------------------------------------------------------\u001b[0m",
      "\u001b[0;31mIndexError\u001b[0m                                Traceback (most recent call last)",
      "Cell \u001b[0;32mIn[8], line 10\u001b[0m\n\u001b[1;32m      1\u001b[0m \u001b[38;5;66;03m#\u001b[39;00m\n\u001b[1;32m      2\u001b[0m \u001b[38;5;66;03m# Initialize ADF object from the user-set config file\u001b[39;00m\n\u001b[1;32m      3\u001b[0m \u001b[38;5;66;03m#\u001b[39;00m\n\u001b[0;32m   (...)\u001b[0m\n\u001b[1;32m      8\u001b[0m \u001b[38;5;66;03m# Any changes that are made to the config file will require re-running this cell\u001b[39;00m\n\u001b[1;32m      9\u001b[0m \u001b[38;5;66;03m# \u001b[39;00m\n\u001b[0;32m---> 10\u001b[0m adf \u001b[38;5;241m=\u001b[39m \u001b[43mAdfDiag\u001b[49m\u001b[43m(\u001b[49m\u001b[43mconfig_file\u001b[49m\u001b[43m)\u001b[49m\n\u001b[1;32m     11\u001b[0m \u001b[38;5;28mprint\u001b[39m(\u001b[38;5;124mf\u001b[39m\u001b[38;5;124m\"\u001b[39m\u001b[38;5;124mReading settings from \u001b[39m\u001b[38;5;124m\"\u001b[39m,config_file)\n\u001b[1;32m     13\u001b[0m check_user \u001b[38;5;241m=\u001b[39m adf\u001b[38;5;241m.\u001b[39mread_config_var(\u001b[38;5;124m\"\u001b[39m\u001b[38;5;124muser\u001b[39m\u001b[38;5;124m\"\u001b[39m)\n",
      "File \u001b[0;32m/proj/aerosol_esm_lund/users/x_artja/ADF/lib/adf_diag.py:165\u001b[0m, in \u001b[0;36mAdfDiag.__init__\u001b[0;34m(self, config_file, debug)\u001b[0m\n\u001b[1;32m    160\u001b[0m \u001b[38;5;250m\u001b[39m\u001b[38;5;124;03m\"\"\"\u001b[39;00m\n\u001b[1;32m    161\u001b[0m \u001b[38;5;124;03mInitalize ADF diagnostics object.\u001b[39;00m\n\u001b[1;32m    162\u001b[0m \u001b[38;5;124;03m\"\"\"\u001b[39;00m\n\u001b[1;32m    164\u001b[0m \u001b[38;5;66;03m# Initialize Config/Base attributes:\u001b[39;00m\n\u001b[0;32m--> 165\u001b[0m \u001b[38;5;28;43msuper\u001b[39;49m\u001b[43m(\u001b[49m\u001b[43m)\u001b[49m\u001b[38;5;241;43m.\u001b[39;49m\u001b[38;5;21;43m__init__\u001b[39;49m\u001b[43m(\u001b[49m\u001b[43mconfig_file\u001b[49m\u001b[43m,\u001b[49m\u001b[43m \u001b[49m\u001b[43mdebug\u001b[49m\u001b[38;5;241;43m=\u001b[39;49m\u001b[43mdebug\u001b[49m\u001b[43m)\u001b[49m\n\u001b[1;32m    167\u001b[0m \u001b[38;5;66;03m# Add averaging script names:\u001b[39;00m\n\u001b[1;32m    168\u001b[0m \u001b[38;5;28mself\u001b[39m\u001b[38;5;241m.\u001b[39m__time_averaging_scripts \u001b[38;5;241m=\u001b[39m \u001b[38;5;28mself\u001b[39m\u001b[38;5;241m.\u001b[39mread_config_var(\u001b[38;5;124m\"\u001b[39m\u001b[38;5;124mtime_averaging_scripts\u001b[39m\u001b[38;5;124m\"\u001b[39m)\n",
      "File \u001b[0;32m/proj/aerosol_esm_lund/users/x_artja/ADF/lib/adf_web.py:101\u001b[0m, in \u001b[0;36mAdfWeb.__init__\u001b[0;34m(self, config_file, debug)\u001b[0m\n\u001b[1;32m     96\u001b[0m \u001b[38;5;250m\u001b[39m\u001b[38;5;124;03m\"\"\"\u001b[39;00m\n\u001b[1;32m     97\u001b[0m \u001b[38;5;124;03mInitalize ADF Web object.\u001b[39;00m\n\u001b[1;32m     98\u001b[0m \u001b[38;5;124;03m\"\"\"\u001b[39;00m\n\u001b[1;32m    100\u001b[0m \u001b[38;5;66;03m#Initialize Obs attributes:\u001b[39;00m\n\u001b[0;32m--> 101\u001b[0m \u001b[38;5;28;43msuper\u001b[39;49m\u001b[43m(\u001b[49m\u001b[43m)\u001b[49m\u001b[38;5;241;43m.\u001b[39;49m\u001b[38;5;21;43m__init__\u001b[39;49m\u001b[43m(\u001b[49m\u001b[43mconfig_file\u001b[49m\u001b[43m,\u001b[49m\u001b[43m \u001b[49m\u001b[43mdebug\u001b[49m\u001b[38;5;241;43m=\u001b[39;49m\u001b[43mdebug\u001b[49m\u001b[43m)\u001b[49m\n\u001b[1;32m    103\u001b[0m \u001b[38;5;66;03m#Initialize website mean plots dictionary:\u001b[39;00m\n\u001b[1;32m    104\u001b[0m \u001b[38;5;28mself\u001b[39m\u001b[38;5;241m.\u001b[39m__website_data \u001b[38;5;241m=\u001b[39m []\n",
      "File \u001b[0;32m/proj/aerosol_esm_lund/users/x_artja/ADF/lib/adf_obs.py:64\u001b[0m, in \u001b[0;36mAdfObs.__init__\u001b[0;34m(self, config_file, debug)\u001b[0m\n\u001b[1;32m     59\u001b[0m \u001b[38;5;250m\u001b[39m\u001b[38;5;124;03m\"\"\"\u001b[39;00m\n\u001b[1;32m     60\u001b[0m \u001b[38;5;124;03mInitalize ADF Obs object.\u001b[39;00m\n\u001b[1;32m     61\u001b[0m \u001b[38;5;124;03m\"\"\"\u001b[39;00m\n\u001b[1;32m     63\u001b[0m \u001b[38;5;66;03m#Initialize Config attributes:\u001b[39;00m\n\u001b[0;32m---> 64\u001b[0m \u001b[38;5;28;43msuper\u001b[39;49m\u001b[43m(\u001b[49m\u001b[43m)\u001b[49m\u001b[38;5;241;43m.\u001b[39;49m\u001b[38;5;21;43m__init__\u001b[39;49m\u001b[43m(\u001b[49m\u001b[43mconfig_file\u001b[49m\u001b[43m,\u001b[49m\u001b[43m \u001b[49m\u001b[43mdebug\u001b[49m\u001b[38;5;241;43m=\u001b[39;49m\u001b[43mdebug\u001b[49m\u001b[43m)\u001b[49m\n\u001b[1;32m     66\u001b[0m \u001b[38;5;66;03m#Determine local directory:\u001b[39;00m\n\u001b[1;32m     67\u001b[0m _adf_lib_dir \u001b[38;5;241m=\u001b[39m Path(\u001b[38;5;18m__file__\u001b[39m)\u001b[38;5;241m.\u001b[39mparent\n",
      "File \u001b[0;32m/proj/aerosol_esm_lund/users/x_artja/ADF/lib/adf_info.py:269\u001b[0m, in \u001b[0;36mAdfInfo.__init__\u001b[0;34m(self, config_file, debug)\u001b[0m\n\u001b[1;32m    266\u001b[0m base_climo_yrs \u001b[38;5;241m=\u001b[39m [\u001b[38;5;28mint\u001b[39m(\u001b[38;5;28mstr\u001b[39m(i)\u001b[38;5;241m.\u001b[39mpartition(\u001b[38;5;124mf\u001b[39m\u001b[38;5;124m\"\u001b[39m\u001b[38;5;132;01m{\u001b[39;00mbaseline_hist_str\u001b[38;5;132;01m}\u001b[39;00m\u001b[38;5;124m.\u001b[39m\u001b[38;5;124m\"\u001b[39m)[\u001b[38;5;241m2\u001b[39m][\u001b[38;5;241m0\u001b[39m:\u001b[38;5;241m4\u001b[39m]) \u001b[38;5;28;01mfor\u001b[39;00m i \u001b[38;5;129;01min\u001b[39;00m file_list]\n\u001b[1;32m    267\u001b[0m base_climo_yrs \u001b[38;5;241m=\u001b[39m \u001b[38;5;28msorted\u001b[39m(np\u001b[38;5;241m.\u001b[39munique(base_climo_yrs))\n\u001b[0;32m--> 269\u001b[0m base_found_syr \u001b[38;5;241m=\u001b[39m \u001b[38;5;28mint\u001b[39m(\u001b[43mbase_climo_yrs\u001b[49m\u001b[43m[\u001b[49m\u001b[38;5;241;43m0\u001b[39;49m\u001b[43m]\u001b[49m)\n\u001b[1;32m    270\u001b[0m base_found_eyr \u001b[38;5;241m=\u001b[39m \u001b[38;5;28mint\u001b[39m(base_climo_yrs[\u001b[38;5;241m-\u001b[39m\u001b[38;5;241m1\u001b[39m])\n\u001b[1;32m    272\u001b[0m \u001b[38;5;66;03m#Check if start or end year is missing. If so then just assume it is the\u001b[39;00m\n\u001b[1;32m    273\u001b[0m \u001b[38;5;66;03m#start or end of the entire available model data.\u001b[39;00m\n",
      "\u001b[0;31mIndexError\u001b[0m: list index out of range"
     ]
    }
   ],
   "source": [
    "#\n",
    "# Initialize ADF object from the user-set config file\n",
    "#\n",
    "# Note that you will need to set 'user' in your config file. \n",
    "# The file makes some assumptions about output/working data directories \n",
    "# that can be checked by searching for where the variable 'user' is used.\n",
    "#\n",
    "# Any changes that are made to the config file will require re-running this cell\n",
    "# \n",
    "adf = AdfDiag(config_file)\n",
    "print(f\"Reading settings from \",config_file)\n",
    "\n",
    "check_user = adf.read_config_var(\"user\")\n",
    "err_msg = 'ERROR: You need to set user in the config.yaml to your user name'\n",
    "assert check_user != 'USER-NAME-NOT-SET', f'{err_msg}'\n",
    "print(f'user name set to: {check_user}')\n"
   ]
  },
  {
   "cell_type": "code",
   "execution_count": null,
   "id": "a1a2939c-dbf8-4cef-8bc9-0f3e756b8075",
   "metadata": {},
   "outputs": [],
   "source": [
    "# Pull (and print) some info from the ADF object:\n",
    "baseline_dict = adf.read_config_var(\"diag_cam_climo\")\n",
    "baseline_dict"
   ]
  },
  {
   "cell_type": "code",
   "execution_count": null,
   "id": "3bb53c89-82dc-407b-97a1-6162e8defcc8",
   "metadata": {},
   "outputs": [],
   "source": [
    "# More useful to get information with the variable settings (eg cam_case_name) replaced\n",
    "# with their actual values:\n",
    "\n",
    "#Grab a processed variable under \"diag_basic_info\":\n",
    "print(\"ADF plots will be written to\",adf.get_basic_info('cam_diag_plot_loc', required=True))\n",
    "\n",
    "#Grab a processed variable under \"diag_cam_climo\":\n",
    "print(\"case hist files will be read from\",adf.get_cam_info('cam_hist_loc', required=True))\n",
    "\n",
    "#Grab a processed variable under \"diag_cam_baseline_climo\":\n",
    "print(\"baseline time series files will be read from\",adf.get_baseline_info('cam_ts_loc', required=True))\n",
    "\n",
    "#Finally, if you request a non-existent variable, and don't have \"required=True\", it will return None:\n",
    "print(\"The number of pineapples in the config file is\",adf.get_basic_info('pineapples'))"
   ]
  },
  {
   "cell_type": "markdown",
   "id": "c7d266a8-f006-468d-96d5-51d9a93dd6dd",
   "metadata": {
    "tags": []
   },
   "source": [
    "### ADF Standard Work Flow"
   ]
  },
  {
   "cell_type": "code",
   "execution_count": null,
   "id": "25165dcb-5784-4487-97ab-896b6cf395e2",
   "metadata": {
    "tags": []
   },
   "outputs": [],
   "source": [
    "#Create model time series.\n",
    "print(f\"case ts files will be created in\",adf.get_cam_info('cam_ts_loc', required=True))\n",
    "adf.create_time_series()"
   ]
  },
  {
   "cell_type": "code",
   "execution_count": null,
   "id": "924604b7-0da8-4867-9870-b8bb32131483",
   "metadata": {
    "tags": []
   },
   "outputs": [],
   "source": [
    "#Create model baseline time series (if needed):\n",
    "if not adf.compare_obs:\n",
    "    print(f\"baseline ts files will be created in\",adf.get_baseline_info('cam_ts_loc', required=True))\n",
    "    adf.create_time_series(baseline=True)\n"
   ]
  },
  {
   "cell_type": "code",
   "execution_count": null,
   "id": "85a611c7-a90b-4d24-a518-046407564e35",
   "metadata": {
    "tags": []
   },
   "outputs": [],
   "source": [
    "#Create model climatology (climo) files.\n",
    "print(f\"case climo files will be created in\",adf.get_cam_info('cam_climo_loc', required=True))\n",
    "adf.create_climo()"
   ]
  },
  {
   "cell_type": "code",
   "execution_count": null,
   "id": "012e5b82-f7dd-4fda-84c5-ad1eaeab6406",
   "metadata": {
    "tags": []
   },
   "outputs": [],
   "source": [
    "#If a user is doing a model vs obs comparison, but\n",
    "#no observations were found, then stop here:\n",
    "if adf.compare_obs and not adf.var_obs_dict:\n",
    "        print('ADF diagnostics has completed successfully.')\n",
    "        sys.exit(0)\n",
    "else:\n",
    "    print('config file did not ask ADF to compare obs')"
   ]
  },
  {
   "cell_type": "code",
   "execution_count": null,
   "id": "9673eada-6eeb-4c68-b59a-bd7baf62aca1",
   "metadata": {
    "tags": []
   },
   "outputs": [],
   "source": [
    "#Regrid model climatology files to match either\n",
    "#observations or CAM baseline climatologies.\n",
    "#This call uses the \"regridding_scripts\" specified\n",
    "#in the config file:\n",
    "adf.regrid_climo()"
   ]
  },
  {
   "cell_type": "code",
   "execution_count": null,
   "id": "d3d9ff4a-b720-47f1-89e9-10e06dab1d41",
   "metadata": {
    "tags": []
   },
   "outputs": [],
   "source": [
    "#Perform analyses on the simulation(s).\n",
    "#This call uses the \"analysis_scripts\" specified in the\n",
    "#config file:\n",
    "adf.perform_analyses()"
   ]
  },
  {
   "cell_type": "code",
   "execution_count": null,
   "id": "63f97af2-1c72-467a-9d87-27101506805c",
   "metadata": {
    "tags": []
   },
   "outputs": [],
   "source": [
    "#Create the plot requested in the plotting_scripts list in the config file:\n",
    "plot_path = adf.get_basic_info('cam_diag_plot_loc')\n",
    "print(f'plots written to {plot_path}')\n",
    "adf.create_plots()"
   ]
  },
  {
   "cell_type": "code",
   "execution_count": null,
   "id": "95161341-a11c-408c-baf6-44191023f55a",
   "metadata": {
    "tags": []
   },
   "outputs": [],
   "source": [
    "#Create website.\n",
    "if adf.create_html:\n",
    "    adf.create_website()"
   ]
  },
  {
   "cell_type": "markdown",
   "id": "8de79bdf-bdf8-466c-9bbe-4dbd9ea98bbd",
   "metadata": {
    "tags": []
   },
   "source": [
    "### ADF Helpful Methods and Structures "
   ]
  },
  {
   "cell_type": "markdown",
   "id": "106a7c03-d3c8-4229-a0f2-9ebd7b3b57fd",
   "metadata": {
    "tags": []
   },
   "source": [
    "#### Demonstration of a few methods to get information from the ADF object"
   ]
  },
  {
   "cell_type": "code",
   "execution_count": null,
   "id": "19f366ae-6aa1-4e7c-8c09-f4907c1785ff",
   "metadata": {},
   "outputs": [],
   "source": [
    "basic_info_dict = adf.read_config_var(\"diag_basic_info\")\n",
    "print(basic_info_dict)"
   ]
  },
  {
   "cell_type": "code",
   "execution_count": null,
   "id": "367b1c5f-1455-4584-b926-b272605df614",
   "metadata": {},
   "outputs": [],
   "source": [
    "baseline_dict = adf.read_config_var(\"diag_cam_baseline_climo\")\n",
    "print(baseline_dict)"
   ]
  },
  {
   "cell_type": "code",
   "execution_count": null,
   "id": "f4d34570-b650-4da6-88a5-2f9942092a2b",
   "metadata": {},
   "outputs": [],
   "source": [
    "case_names = adf.get_cam_info(\"cam_case_name\",required=True)\n",
    "print(case_names)"
   ]
  },
  {
   "cell_type": "code",
   "execution_count": null,
   "id": "66b7555f-d694-4c23-9046-75990c79153f",
   "metadata": {},
   "outputs": [],
   "source": [
    "plot_type = basic_info_dict.get('plot_type', 'png')\n",
    "plot_type"
   ]
  },
  {
   "cell_type": "code",
   "execution_count": null,
   "id": "cb3efbd0-b7c7-442f-b978-644a67db7ab0",
   "metadata": {},
   "outputs": [],
   "source": [
    "case_climo_loc = adf.get_cam_info('cam_climo_loc', required=True)\n",
    "\n",
    "# Variables used in a CAM v CAM (baseline comparison), not required because not used if compare_obs = True\n",
    "data_name = adf.get_baseline_info('cam_case_name', required=False)\n",
    "data_loc = adf.get_baseline_info(\"cam_climo_loc\", required=False)\n",
    "\n",
    "print(case_climo_loc)\n",
    "print(data_name)\n",
    "print(data_loc)"
   ]
  },
  {
   "cell_type": "code",
   "execution_count": null,
   "id": "67ea0b70-b4b9-4c26-8222-cbc35e7fff78",
   "metadata": {},
   "outputs": [],
   "source": [
    "var_list = adf.diag_var_list\n",
    "print(var_list)"
   ]
  },
  {
   "cell_type": "markdown",
   "id": "61d1372c-aade-4c1a-a769-e4b5f4bd2a05",
   "metadata": {},
   "source": [
    " #### Demonstrate how to check for a variable in the list "
   ]
  },
  {
   "cell_type": "code",
   "execution_count": null,
   "id": "65dcd8d2-a8e6-469e-b30c-55cfe5c6f27e",
   "metadata": {
    "tags": []
   },
   "outputs": [],
   "source": [
    "#Print all the variables\n",
    "var_list"
   ]
  },
  {
   "cell_type": "code",
   "execution_count": null,
   "id": "fe9ddbe7-4882-4ad2-93aa-f4aafc8dab71",
   "metadata": {
    "tags": []
   },
   "outputs": [],
   "source": [
    "# Check for a variable\n",
    "var_name = 'PRECC'\n",
    "assert var_name in var_list, f'Sorry, you need to include {var_name} to make this plot'"
   ]
  },
  {
   "cell_type": "code",
   "execution_count": null,
   "id": "c209c333-99d6-4a46-a46e-5231308dc61f",
   "metadata": {
    "tags": []
   },
   "outputs": [],
   "source": [
    "# Check for a variable that isn't in the list\n",
    "var_name = 'PRECT'\n",
    "assert var_name in var_list, f'Sorry, you need to include {var_name} to make this plot'\n",
    "\n",
    "# EXPECT AN ERROR for demonstration purposes! \n"
   ]
  },
  {
   "cell_type": "code",
   "execution_count": null,
   "id": "fde8debc-d6db-46c3-a8da-293dd88a11e7",
   "metadata": {},
   "outputs": [],
   "source": []
  },
  {
   "cell_type": "code",
   "execution_count": null,
   "id": "2ced2249-5468-4169-8e34-4875cbd99b12",
   "metadata": {},
   "outputs": [],
   "source": []
  }
 ],
 "metadata": {
  "kernelspec": {
   "display_name": "adf_v0.11",
   "language": "python",
   "name": "python3"
  },
  "language_info": {
   "codemirror_mode": {
    "name": "ipython",
    "version": 3
   },
   "file_extension": ".py",
   "mimetype": "text/x-python",
   "name": "python",
   "nbconvert_exporter": "python",
   "pygments_lexer": "ipython3",
   "version": "3.11.6"
  }
 },
 "nbformat": 4,
 "nbformat_minor": 5
}
